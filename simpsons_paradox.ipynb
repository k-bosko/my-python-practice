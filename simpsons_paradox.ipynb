{
 "cells": [
  {
   "cell_type": "markdown",
   "metadata": {
    "collapsed": true
   },
   "source": [
    "# Simpson's Paradox\n",
    "Use `admission_data.csv` for this exercise."
   ]
  },
  {
   "cell_type": "code",
   "execution_count": 29,
   "metadata": {},
   "outputs": [
    {
     "data": {
      "text/html": [
       "<div>\n",
       "<style scoped>\n",
       "    .dataframe tbody tr th:only-of-type {\n",
       "        vertical-align: middle;\n",
       "    }\n",
       "\n",
       "    .dataframe tbody tr th {\n",
       "        vertical-align: top;\n",
       "    }\n",
       "\n",
       "    .dataframe thead th {\n",
       "        text-align: right;\n",
       "    }\n",
       "</style>\n",
       "<table border=\"1\" class=\"dataframe\">\n",
       "  <thead>\n",
       "    <tr style=\"text-align: right;\">\n",
       "      <th></th>\n",
       "      <th>student_id</th>\n",
       "      <th>gender</th>\n",
       "      <th>major</th>\n",
       "      <th>admitted</th>\n",
       "    </tr>\n",
       "  </thead>\n",
       "  <tbody>\n",
       "    <tr>\n",
       "      <th>0</th>\n",
       "      <td>35377</td>\n",
       "      <td>female</td>\n",
       "      <td>Chemistry</td>\n",
       "      <td>False</td>\n",
       "    </tr>\n",
       "    <tr>\n",
       "      <th>1</th>\n",
       "      <td>56105</td>\n",
       "      <td>male</td>\n",
       "      <td>Physics</td>\n",
       "      <td>True</td>\n",
       "    </tr>\n",
       "    <tr>\n",
       "      <th>2</th>\n",
       "      <td>31441</td>\n",
       "      <td>female</td>\n",
       "      <td>Chemistry</td>\n",
       "      <td>False</td>\n",
       "    </tr>\n",
       "    <tr>\n",
       "      <th>3</th>\n",
       "      <td>51765</td>\n",
       "      <td>male</td>\n",
       "      <td>Physics</td>\n",
       "      <td>True</td>\n",
       "    </tr>\n",
       "    <tr>\n",
       "      <th>4</th>\n",
       "      <td>53714</td>\n",
       "      <td>female</td>\n",
       "      <td>Physics</td>\n",
       "      <td>True</td>\n",
       "    </tr>\n",
       "  </tbody>\n",
       "</table>\n",
       "</div>"
      ],
      "text/plain": [
       "   student_id  gender      major  admitted\n",
       "0       35377  female  Chemistry     False\n",
       "1       56105    male    Physics      True\n",
       "2       31441  female  Chemistry     False\n",
       "3       51765    male    Physics      True\n",
       "4       53714  female    Physics      True"
      ]
     },
     "execution_count": 29,
     "metadata": {},
     "output_type": "execute_result"
    }
   ],
   "source": [
    "import pandas as pd\n",
    "admitted = pd.read_csv('admission_data.csv')\n",
    "admitted.head()\n",
    "# Load and view first few lines of dataset\n"
   ]
  },
  {
   "cell_type": "markdown",
   "metadata": {},
   "source": [
    "### Proportion and admission rate for each gender"
   ]
  },
  {
   "cell_type": "code",
   "execution_count": 124,
   "metadata": {},
   "outputs": [
    {
     "name": "stdout",
     "output_type": "stream",
     "text": [
      "there are 500 students\n",
      "there are 257 female\n",
      "% of students that are female: 0.514\n"
     ]
    }
   ],
   "source": [
    "# Proportion of students that are female\n",
    "students = admitted.shape[0]\n",
    "print(\"there are {} students\".format(students))\n",
    "female = admitted.groupby(['gender']).size()['female']\n",
    "print(\"there are {} female\".format(female))\n",
    "female_pct = female/students\n",
    "print(\"% of students that are female: {}\".format(female_pct))"
   ]
  },
  {
   "cell_type": "code",
   "execution_count": 126,
   "metadata": {},
   "outputs": [
    {
     "name": "stdout",
     "output_type": "stream",
     "text": [
      "there are 243 male\n",
      "% of students that are male: 0.486\n"
     ]
    }
   ],
   "source": [
    "# Proportion of students that are male\n",
    "male = admitted.groupby(['gender']).size()['male']\n",
    "print(\"there are {} male\".format(male))\n",
    "male_pct = male/students\n",
    "print(\"% of students that are male: {}\".format(male_pct))"
   ]
  },
  {
   "cell_type": "code",
   "execution_count": 152,
   "metadata": {},
   "outputs": [
    {
     "name": "stdout",
     "output_type": "stream",
     "text": [
      "74.0 female were admitted\n",
      "% of admitted female: 0.28793774319066145\n"
     ]
    }
   ],
   "source": [
    "# Admission rate for females\n",
    "admitted_female = admitted.groupby(['gender'])['admitted'].sum()['female']\n",
    "print(\"{} female were admitted\".format(admitted_female))\n",
    "adm_female_pct = admitted_female/female\n",
    "print(\"% of admitted female: {}\".format(adm_female_pct))"
   ]
  },
  {
   "cell_type": "code",
   "execution_count": 151,
   "metadata": {},
   "outputs": [
    {
     "name": "stdout",
     "output_type": "stream",
     "text": [
      "118.0 male were admitted\n",
      "% of admitted female: 0.48559670781893005\n"
     ]
    }
   ],
   "source": [
    "# Admission rate for males\n",
    "admitted_male = admitted.groupby(['gender'])['admitted'].sum()['male']\n",
    "print(\"{} male were admitted\".format(admitted_male))\n",
    "adm_male_pct = admitted_male/male\n",
    "print(\"% of admitted female: {}\".format(adm_male_pct))"
   ]
  },
  {
   "cell_type": "markdown",
   "metadata": {},
   "source": [
    "### Proportion and admission rate for physics majors of each gender"
   ]
  },
  {
   "cell_type": "code",
   "execution_count": 159,
   "metadata": {},
   "outputs": [
    {
     "name": "stdout",
     "output_type": "stream",
     "text": [
      "data group by majors, gender and admitted status: major      gender\n",
      "Chemistry  female    226\n",
      "           male       18\n",
      "Physics    female     31\n",
      "           male      225\n",
      "dtype: int64\n",
      "% of female majoring in physics: 0.12062256809338522\n"
     ]
    }
   ],
   "source": [
    "# What proportion of female students are majoring in physics?\n",
    "all_majors = admitted.groupby(['major','gender']).size()\n",
    "print(\"data group by majors, gender and admitted status: {}\".format(all_majors))\n",
    "female_physics = all_majors['Physics']['female']\n",
    "female_physics_pct = female_physics/female\n",
    "print(\"% of female majoring in physics: {}\".format(female_physics_pct))"
   ]
  },
  {
   "cell_type": "code",
   "execution_count": 160,
   "metadata": {},
   "outputs": [
    {
     "name": "stdout",
     "output_type": "stream",
     "text": [
      "% of male majoring in physics: 0.9259259259259259\n"
     ]
    }
   ],
   "source": [
    "# What proportion of male students are majoring in physics?\n",
    "male_physics = all_majors['Physics']['male']\n",
    "male_physics_pct = male_physics/male\n",
    "print(\"% of male majoring in physics: {}\".format(male_physics_pct))"
   ]
  },
  {
   "cell_type": "code",
   "execution_count": 166,
   "metadata": {},
   "outputs": [
    {
     "name": "stdout",
     "output_type": "stream",
     "text": [
      "major      gender  admitted\n",
      "Chemistry  female  False       175\n",
      "                   True         51\n",
      "           male    False        16\n",
      "                   True          2\n",
      "Physics    female  False         8\n",
      "                   True         23\n",
      "           male    False       109\n",
      "                   True        116\n",
      "dtype: int64\n",
      "admission rate for female physics majors: 0.7419354838709677\n"
     ]
    }
   ],
   "source": [
    "# Admission rate for female physics majors\n",
    "all_admitted = admitted.groupby(['major','gender','admitted']).size()\n",
    "print(all_admitted)\n",
    "female_physics_admitted = all_admitted['Physics']['female'][True]\n",
    "female_physics_admitted_pct = female_physics_admitted/female_physics\n",
    "print(\"admission rate for female physics majors: {}\".format(female_physics_admitted_pct))"
   ]
  },
  {
   "cell_type": "code",
   "execution_count": 167,
   "metadata": {},
   "outputs": [
    {
     "name": "stdout",
     "output_type": "stream",
     "text": [
      "admission rate for male physics majors: 0.5155555555555555\n"
     ]
    }
   ],
   "source": [
    "# Admission rate for male physics majors\n",
    "male_physics_admitted = all_admitted['Physics']['male'][True]\n",
    "male_physics_admitted_pct = male_physics_admitted/male_physics\n",
    "print(\"admission rate for male physics majors: {}\".format(male_physics_admitted_pct))"
   ]
  },
  {
   "cell_type": "markdown",
   "metadata": {},
   "source": [
    "### Proportion and admission rate for chemistry majors of each gender"
   ]
  },
  {
   "cell_type": "code",
   "execution_count": 170,
   "metadata": {},
   "outputs": [
    {
     "name": "stdout",
     "output_type": "stream",
     "text": [
      "% of female majoring in physics: 0.8793774319066148\n"
     ]
    }
   ],
   "source": [
    "# What proportion of female students are majoring in chemistry?\n",
    "female_chemistry = all_majors['Chemistry']['female']\n",
    "female_chemistry_pct = female_chemistry/female\n",
    "print(\"% of female majoring in physics: {}\".format(female_chemistry_pct))"
   ]
  },
  {
   "cell_type": "code",
   "execution_count": 171,
   "metadata": {},
   "outputs": [
    {
     "name": "stdout",
     "output_type": "stream",
     "text": [
      "% of male majoring in physics: 0.07407407407407407\n"
     ]
    }
   ],
   "source": [
    "# What proportion of male students are majoring in chemistry?\n",
    "male_chemistry = all_majors['Chemistry']['male']\n",
    "male_chemistry_pct = male_chemistry/male\n",
    "print(\"% of male majoring in physics: {}\".format(male_chemistry_pct))"
   ]
  },
  {
   "cell_type": "code",
   "execution_count": 175,
   "metadata": {},
   "outputs": [
    {
     "name": "stdout",
     "output_type": "stream",
     "text": [
      "% of female majoring in physics: [0.22566372]\n"
     ]
    }
   ],
   "source": [
    "# Admission rate for female chemistry majors\n",
    "female_chemistry_admitted = all_admitted['Chemistry']['female'][True]\n",
    "female_chemistry_pct = female_chemistry_admitted/female_chemistry\n",
    "print(\"% of female majoring in physics: {}\".format(female_chemistry_pct))"
   ]
  },
  {
   "cell_type": "code",
   "execution_count": 174,
   "metadata": {},
   "outputs": [
    {
     "name": "stdout",
     "output_type": "stream",
     "text": [
      "% of male majoring in physics: 0.1111111111111111\n"
     ]
    }
   ],
   "source": [
    "# Admission rate for male chemistry majors\n",
    "male_chemistry_admitted = all_admitted['Chemistry']['male'][True]\n",
    "male_chemistry_pct = male_chemistry_admitted/male_chemistry\n",
    "print(\"% of male majoring in physics: {}\".format(male_chemistry_pct))"
   ]
  },
  {
   "cell_type": "markdown",
   "metadata": {},
   "source": [
    "### Admission rate for each major"
   ]
  },
  {
   "cell_type": "code",
   "execution_count": 185,
   "metadata": {},
   "outputs": [
    {
     "name": "stdout",
     "output_type": "stream",
     "text": [
      "0.54296875\n"
     ]
    }
   ],
   "source": [
    "# Admission rate for physics majors\n",
    "admission_physics = (female_physics_admitted + male_physics_admitted)/(female_physics + male_physics)\n",
    "print(admission_physics)"
   ]
  },
  {
   "cell_type": "code",
   "execution_count": 186,
   "metadata": {},
   "outputs": [
    {
     "name": "stdout",
     "output_type": "stream",
     "text": [
      "[0.21721311]\n"
     ]
    }
   ],
   "source": [
    "# Admission rate for chemistry majors\n",
    "admission_chemistry = (female_chemistry_admitted + male_chemistry_admitted)/(female_chemistry + male_chemistry)\n",
    "print(admission_chemistry)"
   ]
  },
  {
   "cell_type": "code",
   "execution_count": null,
   "metadata": {},
   "outputs": [],
   "source": []
  }
 ],
 "metadata": {
  "kernelspec": {
   "display_name": "Python 3",
   "language": "python",
   "name": "python3"
  },
  "language_info": {
   "codemirror_mode": {
    "name": "ipython",
    "version": 3
   },
   "file_extension": ".py",
   "mimetype": "text/x-python",
   "name": "python",
   "nbconvert_exporter": "python",
   "pygments_lexer": "ipython3",
   "version": "3.7.0"
  }
 },
 "nbformat": 4,
 "nbformat_minor": 2
}
