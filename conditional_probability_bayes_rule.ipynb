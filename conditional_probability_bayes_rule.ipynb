{
 "cells": [
  {
   "cell_type": "markdown",
   "metadata": {},
   "source": [
    "# Conditional Probability & Bayes Rule Quiz"
   ]
  },
  {
   "cell_type": "markdown",
   "metadata": {},
   "source": [
    "computing conditional probability in Python in two ways: <br>\n",
    "1. using bayes rule \n",
    "2. via query"
   ]
  },
  {
   "cell_type": "code",
   "execution_count": 16,
   "metadata": {},
   "outputs": [
    {
     "name": "stdout",
     "output_type": "stream",
     "text": [
      "   patient_id test_result  has_cancer\n",
      "0       79452    Negative       False\n",
      "1       81667    Positive        True\n",
      "2       76297    Negative       False\n",
      "3       36593    Negative       False\n",
      "4       53717    Negative       False\n"
     ]
    }
   ],
   "source": [
    "# load dataset\n",
    "import pandas as pd\n",
    "df = pd.read_csv('cancer_test_data.csv')\n",
    "print(df.head())\n",
    "\n",
    "cancer = 0.105\n",
    "notcancer = 0.895\n",
    "pos_cancer = 0.905\n",
    "neg_cancer = 0.095\n",
    "pos_notcancer = 0.204\n",
    "neg_notcancer = 0.796"
   ]
  },
  {
   "cell_type": "code",
   "execution_count": 30,
   "metadata": {},
   "outputs": [
    {
     "name": "stdout",
     "output_type": "stream",
     "text": [
      "0.34230291241151994\n",
      "0.342821782178\n"
     ]
    }
   ],
   "source": [
    "# What proportion of patients who tested positive has cancer?\n",
    "cancer_pos = cancer*pos_cancer/(cancer*pos_cancer + notcancer*pos_notcancer)\n",
    "print(cancer_pos)\n",
    "cancer_pos2 = df.query(\"test_result == 'Positive'\")['has_cancer'].mean()\n",
    "print(cancer_pos2)"
   ]
  },
  {
   "cell_type": "code",
   "execution_count": 31,
   "metadata": {},
   "outputs": [
    {
     "name": "stdout",
     "output_type": "stream",
     "text": [
      "0.65769708758848\n",
      "0.657178217822\n"
     ]
    }
   ],
   "source": [
    "# What proportion of patients who tested positive doesn't have cancer?\n",
    "notcancer_pos = notcancer*pos_notcancer/(cancer*pos_cancer + notcancer*pos_notcancer)\n",
    "print(notcancer_pos)\n",
    "notcancer_pos2 = 1 - cancer_pos2\n",
    "print(notcancer_pos2)"
   ]
  },
  {
   "cell_type": "code",
   "execution_count": 32,
   "metadata": {},
   "outputs": [
    {
     "name": "stdout",
     "output_type": "stream",
     "text": [
      "0.013808235106832134\n",
      "0.0137701804368\n"
     ]
    }
   ],
   "source": [
    "# What proportion of patients who tested negative has cancer?\n",
    "cancer_neg = cancer*neg_cancer/(cancer*neg_cancer + notcancer*neg_notcancer)\n",
    "print(cancer_neg)\n",
    "cancer_neg2 = df.query(\"test_result =='Negative'\")['has_cancer'].mean()\n",
    "print(cancer_neg2)\n"
   ]
  },
  {
   "cell_type": "code",
   "execution_count": 33,
   "metadata": {},
   "outputs": [
    {
     "name": "stdout",
     "output_type": "stream",
     "text": [
      "0.986191764893168\n",
      "0.986229819563\n"
     ]
    }
   ],
   "source": [
    "# What proportion of patients who tested negative doesn't have cancer?\n",
    "notcancer_neg = notcancer*neg_notcancer/(notcancer*neg_notcancer + cancer*neg_cancer)\n",
    "print(notcancer_neg)\n",
    "notcancer_neg2 = 1 - cancer_neg2\n",
    "print(notcancer_neg2)"
   ]
  },
  {
   "cell_type": "code",
   "execution_count": null,
   "metadata": {},
   "outputs": [],
   "source": []
  }
 ],
 "metadata": {
  "kernelspec": {
   "display_name": "Python 3",
   "language": "python",
   "name": "python3"
  },
  "language_info": {
   "codemirror_mode": {
    "name": "ipython",
    "version": 3
   },
   "file_extension": ".py",
   "mimetype": "text/x-python",
   "name": "python",
   "nbconvert_exporter": "python",
   "pygments_lexer": "ipython3",
   "version": "3.6.3"
  }
 },
 "nbformat": 4,
 "nbformat_minor": 2
}
